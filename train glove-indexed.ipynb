{
 "cells": [
  {
   "cell_type": "code",
   "execution_count": 1,
   "id": "executed-reader",
   "metadata": {},
   "outputs": [],
   "source": [
    "%run ./data_utils.ipynb\n",
    "%run ./model.ipynb"
   ]
  },
  {
   "cell_type": "code",
   "execution_count": 2,
   "id": "desirable-decline",
   "metadata": {},
   "outputs": [
    {
     "name": "stdout",
     "output_type": "stream",
     "text": [
      "loading data ...\n",
      "---done!---\n",
      "creating vocabulary ...\n",
      "---done!---\n",
      "numericalizing sentences ...\n",
      "---done!---!\n",
      "sentences: 7109 sentences: 7109 Vocab: 8458\n",
      "loading glove ...\n",
      "---done!---\n"
     ]
    }
   ],
   "source": [
    "dataUtils = DataUtils(min_word_frequency = 2)\n",
    "sentences_train, sentence_test, classes_train, classes_test = dataUtils.get_glove_indexed_sentence_class(0.01)"
   ]
  },
  {
   "cell_type": "code",
   "execution_count": 3,
   "id": "toxic-provider",
   "metadata": {},
   "outputs": [],
   "source": [
    "class Dataset_(torch.utils.data.Dataset):\n",
    "    def __init__(self, sentences, classes):\n",
    "        self.X, self.y = sentences, classes\n",
    "    def __len__(self):\n",
    "        return len(self.X)\n",
    "    def __getitem__(self, index):\n",
    "        classs = self.y[index]\n",
    "        sentence = self.X[index]\n",
    "        \n",
    "        return (torch.tensor(sentence[0]), torch.tensor(sentence[1])), classs"
   ]
  },
  {
   "cell_type": "code",
   "execution_count": 24,
   "id": "standard-shooting",
   "metadata": {},
   "outputs": [],
   "source": [
    "embed_size = 300\n",
    "hidden_size = 150\n",
    "vocab_size = len(dataUtils.vocabulary)\n",
    "class_size = 10\n",
    "num_layers = 2\n",
    "\n",
    "learning_rate = 6e-4\n",
    "num_epochs = 30\n",
    "load_model = False\n",
    "save_model = True\n",
    "batch_size = 16\n",
    "valid_batch_size = 200"
   ]
  },
  {
   "cell_type": "code",
   "execution_count": 25,
   "id": "danish-class",
   "metadata": {},
   "outputs": [],
   "source": [
    "train_data = Dataset_(sentences_train, classes_train)\n",
    "validation_data = Dataset_(sentence_test, classes_test)\n",
    "\n",
    "train_loader = DataLoader(dataset=train_data, batch_size=batch_size, shuffle=True)\n",
    "validation_loader = DataLoader(dataset=validation_data, batch_size=valid_batch_size, shuffle=True)"
   ]
  },
  {
   "cell_type": "code",
   "execution_count": 6,
   "id": "attempted-lawrence",
   "metadata": {},
   "outputs": [],
   "source": [
    "torch.backends.cudnn.benchmark = True\n",
    "device = torch.device(\"cuda\" if torch.cuda.is_available() else \"cpu\")"
   ]
  },
  {
   "cell_type": "code",
   "execution_count": 7,
   "id": "touched-skirt",
   "metadata": {},
   "outputs": [],
   "source": [
    "%run ./data_utils.ipynb\n",
    "%run ./model.ipynb\n",
    "model = RelationNet_glove_indexed(embed_size, hidden_size, vocab_size, class_size, num_layers).to(device)\n",
    "criterion = nn.NLLLoss(ignore_index = dataUtils.rev_vocabulary[\"<PAD>\"])\n",
    "optimizer = optim.Adam(model.parameters(), lr=learning_rate)\n",
    "\n",
    "if load_model:\n",
    "    model = torch.load(\"my_checkpoint_glove_indexed.pth.tar\")"
   ]
  },
  {
   "cell_type": "code",
   "execution_count": 8,
   "id": "diagnostic-lease",
   "metadata": {},
   "outputs": [],
   "source": [
    "train_losses = []\n",
    "train_accs = []\n",
    "validation_losses = []\n",
    "validation_accs = []"
   ]
  },
  {
   "cell_type": "code",
   "execution_count": 9,
   "id": "higher-squad",
   "metadata": {
    "scrolled": true
   },
   "outputs": [
    {
     "name": "stdout",
     "output_type": "stream",
     "text": [
      "--------epoch:0--------\n",
      "saving model ...\n",
      "epoch train loss:\t1.662\tepoch validation loss:\t1.55\n",
      "epoch train acc:\t0.348\tepoch validation acc:\t0.4\n",
      "--------epoch:1--------\n",
      "saving model ...\n",
      "epoch train loss:\t1.211\tepoch validation loss:\t1.222\n",
      "epoch train acc:\t0.493\tepoch validation acc:\t0.6\n",
      "--------epoch:2--------\n",
      "epoch train loss:\t1.05\tepoch validation loss:\t1.111\n",
      "epoch train acc:\t0.547\tepoch validation acc:\t0.55\n",
      "--------epoch:3--------\n",
      "saving model ...\n",
      "epoch train loss:\t0.933\tepoch validation loss:\t0.963\n",
      "epoch train acc:\t0.579\tepoch validation acc:\t0.65\n",
      "--------epoch:4--------\n",
      "saving model ...\n",
      "epoch train loss:\t0.84\tepoch validation loss:\t1.023\n",
      "epoch train acc:\t0.611\tepoch validation acc:\t0.675\n",
      "--------epoch:5--------\n",
      "epoch train loss:\t0.781\tepoch validation loss:\t1.001\n",
      "epoch train acc:\t0.628\tepoch validation acc:\t0.6\n",
      "--------epoch:6--------\n",
      "epoch train loss:\t0.714\tepoch validation loss:\t1.054\n",
      "epoch train acc:\t0.651\tepoch validation acc:\t0.625\n",
      "--------epoch:7--------\n",
      "epoch train loss:\t0.637\tepoch validation loss:\t1.233\n",
      "epoch train acc:\t0.671\tepoch validation acc:\t0.6\n",
      "--------epoch:8--------\n",
      "epoch train loss:\t0.575\tepoch validation loss:\t1.023\n",
      "epoch train acc:\t0.696\tepoch validation acc:\t0.6\n",
      "--------epoch:9--------\n",
      "epoch train loss:\t0.549\tepoch validation loss:\t1.037\n",
      "epoch train acc:\t0.704\tepoch validation acc:\t0.575\n",
      "--------epoch:10--------\n",
      "epoch train loss:\t0.477\tepoch validation loss:\t1.271\n",
      "epoch train acc:\t0.73\tepoch validation acc:\t0.55\n",
      "--------epoch:11--------\n",
      "epoch train loss:\t0.401\tepoch validation loss:\t1.318\n",
      "epoch train acc:\t0.748\tepoch validation acc:\t0.575\n",
      "--------epoch:12--------\n",
      "epoch train loss:\t0.371\tepoch validation loss:\t1.054\n",
      "epoch train acc:\t0.764\tepoch validation acc:\t0.625\n",
      "--------epoch:13--------\n",
      "epoch train loss:\t0.33\tepoch validation loss:\t1.142\n",
      "epoch train acc:\t0.776\tepoch validation acc:\t0.525\n",
      "--------epoch:14--------\n",
      "epoch train loss:\t0.333\tepoch validation loss:\t1.384\n",
      "epoch train acc:\t0.776\tepoch validation acc:\t0.575\n",
      "--------epoch:15--------\n",
      "epoch train loss:\t0.269\tepoch validation loss:\t1.315\n",
      "epoch train acc:\t0.796\tepoch validation acc:\t0.525\n",
      "--------epoch:16--------\n",
      "epoch train loss:\t0.233\tepoch validation loss:\t1.26\n",
      "epoch train acc:\t0.81\tepoch validation acc:\t0.625\n",
      "--------epoch:17--------\n",
      "epoch train loss:\t0.233\tepoch validation loss:\t1.356\n",
      "epoch train acc:\t0.809\tepoch validation acc:\t0.575\n",
      "--------epoch:18--------\n",
      "epoch train loss:\t0.201\tepoch validation loss:\t1.499\n",
      "epoch train acc:\t0.822\tepoch validation acc:\t0.5\n",
      "--------epoch:19--------\n",
      "saving model ...\n",
      "epoch train loss:\t0.176\tepoch validation loss:\t0.957\n",
      "epoch train acc:\t0.832\tepoch validation acc:\t0.675\n",
      "--------epoch:20--------\n",
      "epoch train loss:\t0.201\tepoch validation loss:\t1.228\n",
      "epoch train acc:\t0.821\tepoch validation acc:\t0.575\n",
      "--------epoch:21--------\n",
      "epoch train loss:\t0.163\tepoch validation loss:\t1.366\n",
      "epoch train acc:\t0.834\tepoch validation acc:\t0.6\n",
      "--------epoch:22--------\n",
      "epoch train loss:\t0.138\tepoch validation loss:\t1.567\n",
      "epoch train acc:\t0.844\tepoch validation acc:\t0.6\n",
      "--------epoch:23--------\n",
      "epoch train loss:\t0.143\tepoch validation loss:\t1.549\n",
      "epoch train acc:\t0.841\tepoch validation acc:\t0.525\n",
      "--------epoch:24--------\n",
      "epoch train loss:\t0.138\tepoch validation loss:\t1.218\n",
      "epoch train acc:\t0.842\tepoch validation acc:\t0.65\n",
      "--------epoch:25--------\n",
      "epoch train loss:\t0.12\tepoch validation loss:\t1.181\n",
      "epoch train acc:\t0.849\tepoch validation acc:\t0.625\n",
      "--------epoch:26--------\n",
      "epoch train loss:\t0.137\tepoch validation loss:\t1.662\n",
      "epoch train acc:\t0.84\tepoch validation acc:\t0.575\n",
      "--------epoch:27--------\n",
      "epoch train loss:\t0.133\tepoch validation loss:\t1.468\n",
      "epoch train acc:\t0.841\tepoch validation acc:\t0.575\n",
      "--------epoch:28--------\n",
      "saving model ...\n",
      "epoch train loss:\t0.133\tepoch validation loss:\t1.149\n",
      "epoch train acc:\t0.845\tepoch validation acc:\t0.725\n",
      "--------epoch:29--------\n",
      "epoch train loss:\t0.117\tepoch validation loss:\t1.937\n",
      "epoch train acc:\t0.85\tepoch validation acc:\t0.45\n"
     ]
    }
   ],
   "source": [
    "model.train()\n",
    "dataloader_iterator = iter(validation_loader)\n",
    "validation_sentences, validation_classes = next(dataloader_iterator)\n",
    "validation_sentences = (validation_sentences[0].to(device), validation_sentences[1].to(device))\n",
    "validation_classes = validation_classes.to(device)\n",
    "\n",
    "for epoch in range(num_epochs):\n",
    "    batches_losses = []\n",
    "    batches_accs = []\n",
    "    print('-'*8+\"epoch:\"+str(epoch)+'-'*8)\n",
    "    \n",
    "    for idx, (sentence, c) in enumerate(train_loader):\n",
    "        sentence = (sentence[0].to(device), sentence[1].to(device))\n",
    "        c = c.to(device)\n",
    "\n",
    "        outputs = model(sentence)\n",
    "        loss = criterion(outputs, c)\n",
    "        \n",
    "        batches_losses.append(loss.item())\n",
    "        batches_accs.append(1-torch.count_nonzero(torch.argmax(outputs, dim = 1)-c)/batch_size)\n",
    "        \n",
    "        optimizer.zero_grad()\n",
    "        loss.backward(loss)\n",
    "        optimizer.step()\n",
    "        \n",
    "        print(str(round(idx/440*100, 2))+'%', end=\"\\r\")\n",
    "        \n",
    "    train_losses.append(np.array(batches_losses).mean()) \n",
    "    train_accs.append(np.array(batches_accs).mean())\n",
    "    \n",
    "    validation_outputs = model(validation_sentences)\n",
    "    validation_loss = criterion(validation_outputs, validation_classes)\n",
    "    validation_losses.append(validation_loss.item())\n",
    "    validation_accs.append(1-float(torch.count_nonzero(torch.argmax(validation_outputs, dim = 1)-validation_classes)/valid_batch_size))\n",
    "    \n",
    "    if save_model and validation_accs[-1] >= max(validation_accs):\n",
    "        print('saving model ...')\n",
    "        torch.save(model, \"my_checkpoint_glove_indexed.pth.tar\")\n",
    "    \n",
    "    print(\"epoch train loss:\\t\"+ str(round(train_losses[-1],3)) + \"\\tepoch validation loss:\\t\" + str(round(validation_losses[-1],3)))\n",
    "    print(\"epoch train acc:\\t\" + str(round(train_accs[-1],3)) + \"\\tepoch validation acc:\\t\" + str(round(validation_accs[-1],3)))\n",
    "    "
   ]
  },
  {
   "cell_type": "code",
   "execution_count": 10,
   "id": "latin-trunk",
   "metadata": {},
   "outputs": [
    {
     "data": {
      "text/plain": [
       "<matplotlib.legend.Legend at 0x7ffac84f8880>"
      ]
     },
     "execution_count": 10,
     "metadata": {},
     "output_type": "execute_result"
    },
    {
     "data": {
      "image/png": "[encoded data removed]",
      "text/plain": [
       "<Figure size 432x288 with 1 Axes>"
      ]
     },
     "metadata": {
      "needs_background": "light"
     },
     "output_type": "display_data"
    }
   ],
   "source": [
    "plt.plot(train_losses, label = \"train loss\")\n",
    "plt.plot(validation_losses, label = \"validation loss\")\n",
    "plt.title(\"negative loglikelihood loss, training time\")\n",
    "plt.legend()"
   ]
  },
  {
   "cell_type": "code",
   "execution_count": 11,
   "id": "found-filter",
   "metadata": {},
   "outputs": [
    {
     "data": {
      "text/plain": [
       "<matplotlib.legend.Legend at 0x7ffac9c56640>"
      ]
     },
     "execution_count": 11,
     "metadata": {},
     "output_type": "execute_result"
    },
    {
     "data": {
      "image/png": "[encoded data removed]",
      "text/plain": [
       "<Figure size 432x288 with 1 Axes>"
      ]
     },
     "metadata": {
      "needs_background": "light"
     },
     "output_type": "display_data"
    }
   ],
   "source": [
    "plt.plot(train_accs, label = \"train acc\")\n",
    "plt.plot(validation_accs, label = \"validation acc\")\n",
    "plt.title(\"Accuracy - Epochs\")\n",
    "plt.legend()"
   ]
  },
  {
   "cell_type": "code",
   "execution_count": 30,
   "id": "processed-allergy",
   "metadata": {},
   "outputs": [],
   "source": [
    "from sklearn.metrics import precision_recall_fscore_support\n",
    "from sklearn.metrics import confusion_matrix\n",
    "from sklearn.metrics import accuracy_score\n",
    "\n",
    "model = torch.load(\"my_checkpoint_glove_indexed.pth.tar\")\n",
    "\n",
    "dataloader_iterator = iter(validation_loader)\n",
    "validation_sentences, validation_classes = next(dataloader_iterator)\n",
    "validation_sentences = (validation_sentences[0].to(device), validation_sentences[1].to(device))\n",
    "validation_classes = validation_classes.to(device)\n",
    "validation_outputs = model(validation_sentences)"
   ]
  },
  {
   "cell_type": "code",
   "execution_count": 31,
   "id": "intelligent-greece",
   "metadata": {},
   "outputs": [
    {
     "data": {
      "text/plain": [
       "0.6111111111111112"
      ]
     },
     "execution_count": 31,
     "metadata": {},
     "output_type": "execute_result"
    }
   ],
   "source": [
    "accuracy_score(validation_classes, torch.argmax(validation_outputs, dim = 1))"
   ]
  },
  {
   "cell_type": "code",
   "execution_count": 42,
   "id": "included-concord",
   "metadata": {},
   "outputs": [],
   "source": [
    "cm = confusion_matrix(validation_classes, torch.argmax(validation_outputs, dim = 1))"
   ]
  },
  {
   "cell_type": "code",
   "execution_count": 38,
   "id": "disturbed-madrid",
   "metadata": {},
   "outputs": [
    {
     "name": "stderr",
     "output_type": "stream",
     "text": [
      "/Users/ali/miniforge_x86_64/envs/pytorch_x86/lib/python3.8/site-packages/sklearn/metrics/_classification.py:1245: UndefinedMetricWarning: Precision and F-score are ill-defined and being set to 0.0 in labels with no predicted samples. Use `zero_division` parameter to control this behavior.\n",
      "  _warn_prf(average, modifier, msg_start, len(result))\n"
     ]
    }
   ],
   "source": [
    "a = precision_recall_fscore_support(validation_classes, np.array(torch.argmax(validation_outputs, dim = 1)))"
   ]
  }
 ],
 "metadata": {
  "kernelspec": {
   "display_name": "pytorch_x86",
   "language": "python",
   "name": "pytorch_x86"
  },
  "language_info": {
   "codemirror_mode": {
    "name": "ipython",
    "version": 3
   },
   "file_extension": ".py",
   "mimetype": "text/x-python",
   "name": "python",
   "nbconvert_exporter": "python",
   "pygments_lexer": "ipython3",
   "version": "3.8.8"
  }
 },
 "nbformat": 4,
 "nbformat_minor": 5
}
