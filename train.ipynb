{
 "cells": [
  {
   "cell_type": "code",
   "execution_count": 1,
   "id": "executed-reader",
   "metadata": {},
   "outputs": [],
   "source": [
    "%run ./data_utils.ipynb\n",
    "%run ./model.ipynb"
   ]
  },
  {
   "cell_type": "code",
   "execution_count": 2,
   "id": "desirable-decline",
   "metadata": {},
   "outputs": [
    {
     "name": "stdout",
     "output_type": "stream",
     "text": [
      "loading data ...\n",
      "---done!---\n",
      "creating vocabulary ...\n",
      "---done!---\n",
      "numericalizing sentences ...\n",
      "---done!---!\n",
      "sentences: 7109 sentences: 7109 Vocab: 8458\n"
     ]
    }
   ],
   "source": [
    "dataUtils = DataUtils(min_word_frequency = 2)\n",
    "sentences_train, sentence_test, classes_train, classes_test = dataUtils.get_sentence_class(0.01)"
   ]
  },
  {
   "cell_type": "code",
   "execution_count": 22,
   "id": "standard-shooting",
   "metadata": {},
   "outputs": [],
   "source": [
    "embed_size = 100\n",
    "hidden_size = 150\n",
    "vocab_size = len(dataUtils.vocabulary)\n",
    "class_size = 10\n",
    "num_layers = 2\n",
    "\n",
    "learning_rate = 6e-4\n",
    "num_epochs = 30\n",
    "load_model = False\n",
    "save_model = True\n",
    "batch_size = 16\n",
    "valid_batch_size = 100"
   ]
  },
  {
   "cell_type": "code",
   "execution_count": 23,
   "id": "danish-class",
   "metadata": {},
   "outputs": [],
   "source": [
    "train_data = Dataset(sentences_train, classes_train)\n",
    "validation_data = Dataset(sentence_test, classes_test)\n",
    "\n",
    "train_loader = DataLoader(dataset=train_data, batch_size=batch_size, shuffle=True)\n",
    "validation_loader = DataLoader(dataset=validation_data, batch_size=valid_batch_size, shuffle=True)"
   ]
  },
  {
   "cell_type": "code",
   "execution_count": 5,
   "id": "attempted-lawrence",
   "metadata": {},
   "outputs": [],
   "source": [
    "torch.backends.cudnn.benchmark = True\n",
    "device = torch.device(\"cuda\" if torch.cuda.is_available() else \"cpu\")"
   ]
  },
  {
   "cell_type": "code",
   "execution_count": 6,
   "id": "touched-skirt",
   "metadata": {},
   "outputs": [],
   "source": [
    "model = RelationNet(embed_size, hidden_size, vocab_size, class_size, num_layers).to(device)\n",
    "criterion = nn.NLLLoss(ignore_index = dataUtils.rev_vocabulary[\"<PAD>\"])\n",
    "optimizer = optim.Adam(model.parameters(), lr=learning_rate)\n",
    "\n",
    "step = 0\n",
    "\n",
    "if load_model:\n",
    "    model = torch.load(\"my_checkpoint.pth.tar\")"
   ]
  },
  {
   "cell_type": "code",
   "execution_count": 7,
   "id": "diagnostic-lease",
   "metadata": {},
   "outputs": [],
   "source": [
    "train_losses = []\n",
    "train_accs = []\n",
    "validation_losses = []\n",
    "validation_accs = []"
   ]
  },
  {
   "cell_type": "code",
   "execution_count": 8,
   "id": "higher-squad",
   "metadata": {
    "scrolled": true
   },
   "outputs": [
    {
     "name": "stdout",
     "output_type": "stream",
     "text": [
      "--------epoch:0--------\n",
      "saving model ...\n",
      "epoch train loss:\t1.93\tepoch validation loss:\t1.668\n",
      "epoch train acc:\t0.248\tepoch validation acc:\t0.3\n",
      "--------epoch:1--------\n",
      "saving model ...\n",
      "epoch train loss:\t1.639\tepoch validation loss:\t1.579\n",
      "epoch train acc:\t0.344\tepoch validation acc:\t0.35\n",
      "--------epoch:2--------\n",
      "saving model ...\n",
      "epoch train loss:\t1.463\tepoch validation loss:\t1.518\n",
      "epoch train acc:\t0.412\tepoch validation acc:\t0.375\n",
      "--------epoch:3--------\n",
      "saving model ...\n",
      "epoch train loss:\t1.322\tepoch validation loss:\t1.293\n",
      "epoch train acc:\t0.461\tepoch validation acc:\t0.45\n",
      "--------epoch:4--------\n",
      "epoch train loss:\t1.206\tepoch validation loss:\t1.518\n",
      "epoch train acc:\t0.495\tepoch validation acc:\t0.35\n",
      "--------epoch:5--------\n",
      "epoch train loss:\t1.089\tepoch validation loss:\t1.322\n",
      "epoch train acc:\t0.539\tepoch validation acc:\t0.425\n",
      "--------epoch:6--------\n",
      "saving model ...\n",
      "epoch train loss:\t0.978\tepoch validation loss:\t1.247\n",
      "epoch train acc:\t0.573\tepoch validation acc:\t0.5\n",
      "--------epoch:7--------\n",
      "saving model ...\n",
      "epoch train loss:\t0.878\tepoch validation loss:\t1.149\n",
      "epoch train acc:\t0.605\tepoch validation acc:\t0.55\n",
      "--------epoch:8--------\n",
      "epoch train loss:\t0.781\tepoch validation loss:\t1.31\n",
      "epoch train acc:\t0.635\tepoch validation acc:\t0.475\n",
      "--------epoch:9--------\n",
      "saving model ...\n",
      "epoch train loss:\t0.667\tepoch validation loss:\t1.15\n",
      "epoch train acc:\t0.667\tepoch validation acc:\t0.575\n",
      "--------epoch:10--------\n",
      "epoch train loss:\t0.601\tepoch validation loss:\t1.262\n",
      "epoch train acc:\t0.695\tepoch validation acc:\t0.55\n",
      "--------epoch:11--------\n",
      "saving model ...\n",
      "epoch train loss:\t0.544\tepoch validation loss:\t1.215\n",
      "epoch train acc:\t0.713\tepoch validation acc:\t0.6\n",
      "--------epoch:12--------\n",
      "epoch train loss:\t0.491\tepoch validation loss:\t1.644\n",
      "epoch train acc:\t0.726\tepoch validation acc:\t0.475\n",
      "--------epoch:13--------\n",
      "saving model ...\n",
      "epoch train loss:\t0.41\tepoch validation loss:\t1.497\n",
      "epoch train acc:\t0.756\tepoch validation acc:\t0.6\n",
      "--------epoch:14--------\n",
      "epoch train loss:\t0.389\tepoch validation loss:\t1.531\n",
      "epoch train acc:\t0.761\tepoch validation acc:\t0.55\n",
      "--------epoch:15--------\n",
      "epoch train loss:\t0.341\tepoch validation loss:\t1.509\n",
      "epoch train acc:\t0.775\tepoch validation acc:\t0.475\n",
      "--------epoch:16--------\n",
      "epoch train loss:\t0.295\tepoch validation loss:\t1.425\n",
      "epoch train acc:\t0.792\tepoch validation acc:\t0.5\n",
      "--------epoch:17--------\n",
      "epoch train loss:\t0.296\tepoch validation loss:\t1.387\n",
      "epoch train acc:\t0.787\tepoch validation acc:\t0.5\n",
      "--------epoch:18--------\n",
      "epoch train loss:\t0.299\tepoch validation loss:\t1.296\n",
      "epoch train acc:\t0.791\tepoch validation acc:\t0.525\n",
      "--------epoch:19--------\n",
      "epoch train loss:\t0.254\tepoch validation loss:\t1.509\n",
      "epoch train acc:\t0.805\tepoch validation acc:\t0.5\n",
      "--------epoch:20--------\n",
      "epoch train loss:\t0.234\tepoch validation loss:\t1.567\n",
      "epoch train acc:\t0.809\tepoch validation acc:\t0.55\n",
      "--------epoch:21--------\n",
      "epoch train loss:\t0.205\tepoch validation loss:\t1.621\n",
      "epoch train acc:\t0.82\tepoch validation acc:\t0.575\n",
      "--------epoch:22--------\n",
      "epoch train loss:\t0.202\tepoch validation loss:\t1.583\n",
      "epoch train acc:\t0.823\tepoch validation acc:\t0.475\n",
      "--------epoch:23--------\n",
      "epoch train loss:\t0.192\tepoch validation loss:\t1.632\n",
      "epoch train acc:\t0.822\tepoch validation acc:\t0.525\n",
      "--------epoch:24--------\n",
      "epoch train loss:\t0.179\tepoch validation loss:\t1.839\n",
      "epoch train acc:\t0.827\tepoch validation acc:\t0.525\n",
      "--------epoch:25--------\n",
      "epoch train loss:\t0.187\tepoch validation loss:\t1.428\n",
      "epoch train acc:\t0.824\tepoch validation acc:\t0.475\n",
      "--------epoch:26--------\n",
      "epoch train loss:\t0.164\tepoch validation loss:\t1.551\n",
      "epoch train acc:\t0.836\tepoch validation acc:\t0.575\n",
      "--------epoch:27--------\n",
      "epoch train loss:\t0.182\tepoch validation loss:\t1.598\n",
      "epoch train acc:\t0.828\tepoch validation acc:\t0.575\n",
      "--------epoch:28--------\n",
      "epoch train loss:\t0.148\tepoch validation loss:\t1.488\n",
      "epoch train acc:\t0.837\tepoch validation acc:\t0.5\n",
      "--------epoch:29--------\n",
      "epoch train loss:\t0.138\tepoch validation loss:\t2.148\n",
      "epoch train acc:\t0.842\tepoch validation acc:\t0.475\n"
     ]
    }
   ],
   "source": [
    "model.train()\n",
    "dataloader_iterator = iter(validation_loader)\n",
    "validation_sentences, validation_classes = next(dataloader_iterator)\n",
    "validation_sentences, validation_classes = validation_sentences.to(device), validation_classes.to(device)\n",
    "\n",
    "for epoch in range(num_epochs):\n",
    "    batches_losses = []\n",
    "    batches_accs = []\n",
    "    print('-'*8+\"epoch:\"+str(epoch)+'-'*8)\n",
    "\n",
    "    for idx, (sentence, c) in enumerate(train_loader):\n",
    "        sentence, c = sentence.to(device), c.to(device)\n",
    "\n",
    "        outputs = model(sentence)\n",
    "        loss = criterion(outputs, c)\n",
    "        \n",
    "        batches_losses.append(loss.item())\n",
    "        batches_accs.append(1-torch.count_nonzero(torch.argmax(outputs, dim = 1)-c)/batch_size)\n",
    "        \n",
    "        optimizer.zero_grad()\n",
    "        loss.backward(loss)\n",
    "        optimizer.step()\n",
    "        \n",
    "        print(str(round(idx/440*100, 2))+'%', end=\"\\r\")\n",
    "        \n",
    "    train_losses.append(np.array(batches_losses).mean()) \n",
    "    train_accs.append(np.array(batches_accs).mean())\n",
    "    \n",
    "    validation_outputs = model(validation_sentences)\n",
    "    validation_loss = criterion(validation_outputs, validation_classes)\n",
    "    validation_losses.append(validation_loss.item())\n",
    "    validation_accs.append(1-float(torch.count_nonzero(torch.argmax(validation_outputs, dim = 1)-validation_classes)/valid_batch_size))\n",
    "    \n",
    "    if save_model and validation_accs[-1] >= max(validation_accs):\n",
    "        print('saving model ...')\n",
    "        torch.save(model, \"my_checkpoint.pth.tar\")\n",
    "    \n",
    "    print(\"epoch train loss:\\t\"+ str(round(train_losses[-1],3)) + \"\\tepoch validation loss:\\t\" + str(round(validation_losses[-1],3)))\n",
    "    print(\"epoch train acc:\\t\" + str(round(train_accs[-1],3)) + \"\\tepoch validation acc:\\t\" + str(round(validation_accs[-1],3)))\n",
    "    "
   ]
  },
  {
   "cell_type": "code",
   "execution_count": 9,
   "id": "latin-trunk",
   "metadata": {},
   "outputs": [
    {
     "data": {
      "text/plain": [
       "<matplotlib.legend.Legend at 0x7fb94a4bff40>"
      ]
     },
     "execution_count": 9,
     "metadata": {},
     "output_type": "execute_result"
    },
    {
     "data": {
      "image/png": "[encoded data removed]",
      "text/plain": [
       "<Figure size 432x288 with 1 Axes>"
      ]
     },
     "metadata": {
      "needs_background": "light"
     },
     "output_type": "display_data"
    }
   ],
   "source": [
    "plt.plot(train_losses, label = \"train loss\")\n",
    "plt.plot(validation_losses, label = \"validation loss\")\n",
    "plt.title(\"negative loglikelihood loss, training time\")\n",
    "plt.legend()"
   ]
  },
  {
   "cell_type": "code",
   "execution_count": 10,
   "id": "found-filter",
   "metadata": {},
   "outputs": [
    {
     "data": {
      "text/plain": [
       "<matplotlib.legend.Legend at 0x7fb91857bac0>"
      ]
     },
     "execution_count": 10,
     "metadata": {},
     "output_type": "execute_result"
    },
    {
     "data": {
      "image/png": "[encoded data removed]",
      "text/plain": [
       "<Figure size 432x288 with 1 Axes>"
      ]
     },
     "metadata": {
      "needs_background": "light"
     },
     "output_type": "display_data"
    }
   ],
   "source": [
    "plt.plot(train_accs, label = \"train acc\")\n",
    "plt.plot(validation_accs, label = \"validation acc\")\n",
    "plt.title(\"Accuracy - Epochs\")\n",
    "plt.legend()"
   ]
  },
  {
   "cell_type": "code",
   "execution_count": 38,
   "id": "federal-friendship",
   "metadata": {},
   "outputs": [],
   "source": [
    "from sklearn.metrics import precision_recall_fscore_support\n",
    "from sklearn.metrics import confusion_matrix\n",
    "from sklearn.metrics import accuracy_score\n",
    "\n",
    "\n",
    "model = RelationNet_glove(embed_size, hidden_size, vocab_size, class_size, num_layers).to(device)\n",
    "\n",
    "model = torch.load(\"my_checkpoint.pth.tar\")\n",
    "\n",
    "dataloader_iterator = iter(validation_loader)\n",
    "validation_sentences, validation_classes = next(dataloader_iterator)\n",
    "validation_sentences, validation_classes = validation_sentences.to(device), validation_classes.to(device)\n",
    "validation_outputs = model(validation_sentences)"
   ]
  },
  {
   "cell_type": "code",
   "execution_count": 39,
   "id": "regional-mouse",
   "metadata": {},
   "outputs": [
    {
     "data": {
      "text/plain": [
       "0.5416666666666666"
      ]
     },
     "execution_count": 39,
     "metadata": {},
     "output_type": "execute_result"
    }
   ],
   "source": [
    "accuracy_score(validation_classes, torch.argmax(validation_outputs, dim = 1))"
   ]
  },
  {
   "cell_type": "code",
   "execution_count": 46,
   "id": "christian-pathology",
   "metadata": {},
   "outputs": [],
   "source": [
    "cm = confusion_matrix(validation_classes, torch.argmax(validation_outputs, dim = 1))"
   ]
  },
  {
   "cell_type": "code",
   "execution_count": 42,
   "id": "informative-norman",
   "metadata": {},
   "outputs": [
    {
     "name": "stderr",
     "output_type": "stream",
     "text": [
      "/Users/ali/miniforge_x86_64/envs/pytorch_x86/lib/python3.8/site-packages/sklearn/metrics/_classification.py:1245: UndefinedMetricWarning: Precision and F-score are ill-defined and being set to 0.0 in labels with no predicted samples. Use `zero_division` parameter to control this behavior.\n",
      "  _warn_prf(average, modifier, msg_start, len(result))\n"
     ]
    }
   ],
   "source": [
    "a = precision_recall_fscore_support(validation_classes, torch.argmax(validation_outputs, dim = 1))"
   ]
  },
  {
   "cell_type": "code",
   "execution_count": 43,
   "id": "hollywood-louisville",
   "metadata": {},
   "outputs": [
    {
     "data": {
      "text/plain": [
       "(array([0.        , 0.63636364, 0.875     , 0.7       , 0.55555556,\n",
       "        0.75      , 0.33333333, 0.        , 0.66666667, 0.38461538]),\n",
       " array([0.        , 0.63636364, 1.        , 0.875     , 1.        ,\n",
       "        0.42857143, 0.75      , 0.        , 0.13333333, 0.625     ]),\n",
       " array([0.        , 0.63636364, 0.93333333, 0.77777778, 0.71428571,\n",
       "        0.54545455, 0.46153846, 0.        , 0.22222222, 0.47619048]),\n",
       " array([ 5, 11,  7,  8,  5,  7,  4,  2, 15,  8]))"
      ]
     },
     "execution_count": 43,
     "metadata": {},
     "output_type": "execute_result"
    }
   ],
   "source": [
    "a"
   ]
  },
  {
   "cell_type": "code",
   "execution_count": 47,
   "id": "occupied-terrorism",
   "metadata": {},
   "outputs": [
    {
     "data": {
      "text/plain": [
       "array([[0, 1, 0, 0, 0, 0, 0, 1, 0, 3],\n",
       "       [0, 7, 0, 0, 1, 0, 2, 1, 0, 0],\n",
       "       [0, 0, 7, 0, 0, 0, 0, 0, 0, 0],\n",
       "       [0, 0, 0, 7, 0, 0, 0, 0, 0, 1],\n",
       "       [0, 0, 0, 0, 5, 0, 0, 0, 0, 0],\n",
       "       [0, 2, 0, 0, 0, 3, 0, 1, 0, 1],\n",
       "       [0, 0, 0, 0, 0, 0, 3, 0, 1, 0],\n",
       "       [0, 0, 0, 0, 0, 1, 0, 0, 0, 1],\n",
       "       [0, 1, 1, 2, 3, 0, 2, 2, 2, 2],\n",
       "       [0, 0, 0, 1, 0, 0, 2, 0, 0, 5]])"
      ]
     },
     "execution_count": 47,
     "metadata": {},
     "output_type": "execute_result"
    }
   ],
   "source": [
    "cm"
   ]
  },
  {
   "cell_type": "code",
   "execution_count": null,
   "id": "prospective-picnic",
   "metadata": {},
   "outputs": [],
   "source": []
  }
 ],
 "metadata": {
  "kernelspec": {
   "display_name": "pytorch_x86",
   "language": "python",
   "name": "pytorch_x86"
  },
  "language_info": {
   "codemirror_mode": {
    "name": "ipython",
    "version": 3
   },
   "file_extension": ".py",
   "mimetype": "text/x-python",
   "name": "python",
   "nbconvert_exporter": "python",
   "pygments_lexer": "ipython3",
   "version": "3.8.8"
  }
 },
 "nbformat": 4,
 "nbformat_minor": 5
}
