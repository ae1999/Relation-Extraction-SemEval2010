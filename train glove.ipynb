{
 "cells": [
  {
   "cell_type": "code",
   "execution_count": 1,
   "id": "executed-reader",
   "metadata": {},
   "outputs": [],
   "source": [
    "%run ./data_utils.ipynb\n",
    "%run ./model.ipynb"
   ]
  },
  {
   "cell_type": "code",
   "execution_count": 2,
   "id": "desirable-decline",
   "metadata": {},
   "outputs": [
    {
     "name": "stdout",
     "output_type": "stream",
     "text": [
      "loading data ...\n",
      "---done!---\n",
      "creating vocabulary ...\n",
      "---done!---\n",
      "numericalizing sentences ...\n",
      "---done!---!\n",
      "sentences: 7109 sentences: 7109 Vocab: 8458\n",
      "loading glove ...\n",
      "---done!---\n"
     ]
    }
   ],
   "source": [
    "dataUtils = DataUtils(min_word_frequency = 2)\n",
    "sentences_train, sentence_test, classes_train, classes_test = dataUtils.get_glove_sentence_class(0.01)"
   ]
  },
  {
   "cell_type": "code",
   "execution_count": 44,
   "id": "standard-shooting",
   "metadata": {},
   "outputs": [],
   "source": [
    "embed_size = 300\n",
    "hidden_size = 150\n",
    "vocab_size = len(dataUtils.vocabulary)\n",
    "class_size = 10\n",
    "num_layers = 2\n",
    "\n",
    "learning_rate = 6e-4\n",
    "num_epochs = 30\n",
    "load_model = False\n",
    "save_model = True\n",
    "batch_size = 16\n",
    "valid_batch_size = 100"
   ]
  },
  {
   "cell_type": "code",
   "execution_count": 45,
   "id": "danish-class",
   "metadata": {},
   "outputs": [],
   "source": [
    "train_data = Dataset(sentences_train, classes_train)\n",
    "validation_data = Dataset(sentence_test, classes_test)\n",
    "\n",
    "train_loader = DataLoader(dataset=train_data, batch_size=batch_size, shuffle=True)\n",
    "validation_loader = DataLoader(dataset=validation_data, batch_size=valid_batch_size, shuffle=True)"
   ]
  },
  {
   "cell_type": "code",
   "execution_count": 5,
   "id": "attempted-lawrence",
   "metadata": {},
   "outputs": [],
   "source": [
    "torch.backends.cudnn.benchmark = True\n",
    "device = torch.device(\"cuda\" if torch.cuda.is_available() else \"cpu\")"
   ]
  },
  {
   "cell_type": "code",
   "execution_count": 6,
   "id": "touched-skirt",
   "metadata": {},
   "outputs": [],
   "source": [
    "%run ./data_utils.ipynb\n",
    "%run ./model.ipynb\n",
    "model = RelationNet_glove(embed_size, hidden_size, vocab_size, class_size, num_layers).to(device)\n",
    "criterion = nn.NLLLoss(ignore_index = dataUtils.rev_vocabulary[\"<PAD>\"])\n",
    "optimizer = optim.Adam(model.parameters(), lr=learning_rate)\n",
    "\n",
    "if load_model:\n",
    "    model = torch.load(\"my_checkpoint_glove.pth.tar\")"
   ]
  },
  {
   "cell_type": "code",
   "execution_count": 7,
   "id": "diagnostic-lease",
   "metadata": {},
   "outputs": [],
   "source": [
    "train_losses = []\n",
    "train_accs = []\n",
    "validation_losses = []\n",
    "validation_accs = []"
   ]
  },
  {
   "cell_type": "code",
   "execution_count": 8,
   "id": "higher-squad",
   "metadata": {
    "scrolled": true
   },
   "outputs": [
    {
     "name": "stdout",
     "output_type": "stream",
     "text": [
      "--------epoch:0--------\n",
      "saving model ...\n",
      "epoch train loss:\t1.694\tepoch validation loss:\t1.598\n",
      "epoch train acc:\t0.335\tepoch validation acc:\t0.375\n",
      "--------epoch:1--------\n",
      "saving model ...\n",
      "epoch train loss:\t1.244\tepoch validation loss:\t1.387\n",
      "epoch train acc:\t0.485\tepoch validation acc:\t0.475\n",
      "--------epoch:2--------\n",
      "saving model ...\n",
      "epoch train loss:\t1.086\tepoch validation loss:\t1.408\n",
      "epoch train acc:\t0.532\tepoch validation acc:\t0.5\n",
      "--------epoch:3--------\n",
      "saving model ...\n",
      "epoch train loss:\t0.976\tepoch validation loss:\t1.188\n",
      "epoch train acc:\t0.57\tepoch validation acc:\t0.55\n",
      "--------epoch:4--------\n",
      "epoch train loss:\t0.875\tepoch validation loss:\t1.199\n",
      "epoch train acc:\t0.602\tepoch validation acc:\t0.5\n",
      "--------epoch:5--------\n",
      "epoch train loss:\t0.793\tepoch validation loss:\t1.366\n",
      "epoch train acc:\t0.627\tepoch validation acc:\t0.45\n",
      "--------epoch:6--------\n",
      "saving model ...\n",
      "epoch train loss:\t0.727\tepoch validation loss:\t1.15\n",
      "epoch train acc:\t0.652\tepoch validation acc:\t0.55\n",
      "--------epoch:7--------\n",
      "epoch train loss:\t0.665\tepoch validation loss:\t1.468\n",
      "epoch train acc:\t0.663\tepoch validation acc:\t0.4\n",
      "--------epoch:8--------\n",
      "saving model ...\n",
      "epoch train loss:\t0.59\tepoch validation loss:\t1.084\n",
      "epoch train acc:\t0.689\tepoch validation acc:\t0.55\n",
      "--------epoch:9--------\n",
      "epoch train loss:\t0.528\tepoch validation loss:\t1.133\n",
      "epoch train acc:\t0.708\tepoch validation acc:\t0.525\n",
      "--------epoch:10--------\n",
      "saving model ...\n",
      "epoch train loss:\t0.483\tepoch validation loss:\t1.116\n",
      "epoch train acc:\t0.723\tepoch validation acc:\t0.6\n",
      "--------epoch:11--------\n",
      "epoch train loss:\t0.419\tepoch validation loss:\t1.273\n",
      "epoch train acc:\t0.745\tepoch validation acc:\t0.525\n",
      "--------epoch:12--------\n",
      "epoch train loss:\t0.381\tepoch validation loss:\t1.343\n",
      "epoch train acc:\t0.758\tepoch validation acc:\t0.575\n",
      "--------epoch:13--------\n",
      "epoch train loss:\t0.328\tepoch validation loss:\t1.346\n",
      "epoch train acc:\t0.78\tepoch validation acc:\t0.5\n",
      "--------epoch:14--------\n",
      "epoch train loss:\t0.302\tepoch validation loss:\t1.126\n",
      "epoch train acc:\t0.787\tepoch validation acc:\t0.525\n",
      "--------epoch:15--------\n",
      "epoch train loss:\t0.264\tepoch validation loss:\t1.518\n",
      "epoch train acc:\t0.8\tepoch validation acc:\t0.5\n",
      "--------epoch:16--------\n",
      "epoch train loss:\t0.238\tepoch validation loss:\t1.403\n",
      "epoch train acc:\t0.807\tepoch validation acc:\t0.575\n",
      "--------epoch:17--------\n",
      "epoch train loss:\t0.21\tepoch validation loss:\t1.579\n",
      "epoch train acc:\t0.821\tepoch validation acc:\t0.5\n",
      "--------epoch:18--------\n",
      "saving model ...\n",
      "epoch train loss:\t0.185\tepoch validation loss:\t1.489\n",
      "epoch train acc:\t0.828\tepoch validation acc:\t0.6\n",
      "--------epoch:19--------\n",
      "saving model ...\n",
      "epoch train loss:\t0.191\tepoch validation loss:\t1.203\n",
      "epoch train acc:\t0.824\tepoch validation acc:\t0.6\n",
      "--------epoch:20--------\n",
      "epoch train loss:\t0.149\tepoch validation loss:\t1.586\n",
      "epoch train acc:\t0.838\tepoch validation acc:\t0.55\n",
      "--------epoch:21--------\n",
      "epoch train loss:\t0.144\tepoch validation loss:\t1.639\n",
      "epoch train acc:\t0.839\tepoch validation acc:\t0.525\n",
      "--------epoch:22--------\n",
      "epoch train loss:\t0.165\tepoch validation loss:\t1.547\n",
      "epoch train acc:\t0.832\tepoch validation acc:\t0.5\n",
      "--------epoch:23--------\n",
      "epoch train loss:\t0.126\tepoch validation loss:\t1.919\n",
      "epoch train acc:\t0.846\tepoch validation acc:\t0.5\n",
      "--------epoch:24--------\n",
      "epoch train loss:\t0.103\tepoch validation loss:\t2.005\n",
      "epoch train acc:\t0.852\tepoch validation acc:\t0.475\n",
      "--------epoch:25--------\n",
      "epoch train loss:\t0.15\tepoch validation loss:\t1.77\n",
      "epoch train acc:\t0.835\tepoch validation acc:\t0.55\n",
      "--------epoch:26--------\n",
      "epoch train loss:\t0.133\tepoch validation loss:\t1.538\n",
      "epoch train acc:\t0.839\tepoch validation acc:\t0.5\n",
      "--------epoch:27--------\n",
      "epoch train loss:\t0.115\tepoch validation loss:\t1.832\n",
      "epoch train acc:\t0.848\tepoch validation acc:\t0.525\n",
      "--------epoch:28--------\n",
      "epoch train loss:\t0.088\tepoch validation loss:\t1.759\n",
      "epoch train acc:\t0.857\tepoch validation acc:\t0.55\n",
      "--------epoch:29--------\n",
      "epoch train loss:\t0.079\tepoch validation loss:\t1.9\n",
      "epoch train acc:\t0.858\tepoch validation acc:\t0.5\n"
     ]
    }
   ],
   "source": [
    "model.train()\n",
    "dataloader_iterator = iter(validation_loader)\n",
    "validation_sentences, validation_classes = next(dataloader_iterator)\n",
    "validation_sentences, validation_classes = validation_sentences.to(device), validation_classes.to(device)\n",
    "\n",
    "for epoch in range(num_epochs):\n",
    "    batches_losses = []\n",
    "    batches_accs = []\n",
    "    print('-'*8+\"epoch:\"+str(epoch)+'-'*8)\n",
    "\n",
    "    for idx, (sentence, c) in enumerate(train_loader):\n",
    "        sentence, c = sentence.to(device), c.to(device)\n",
    "\n",
    "        outputs = model(sentence)\n",
    "        loss = criterion(outputs, c)\n",
    "        \n",
    "        batches_losses.append(loss.item())\n",
    "        batches_accs.append(1-torch.count_nonzero(torch.argmax(outputs, dim = 1)-c)/batch_size)\n",
    "        \n",
    "        optimizer.zero_grad()\n",
    "        loss.backward(loss)\n",
    "        optimizer.step()\n",
    "        \n",
    "        print(str(round(idx/440*100, 2))+'%', end=\"\\r\")\n",
    "        \n",
    "    train_losses.append(np.array(batches_losses).mean()) \n",
    "    train_accs.append(np.array(batches_accs).mean())\n",
    "    \n",
    "    validation_outputs = model(validation_sentences)\n",
    "    validation_loss = criterion(validation_outputs, validation_classes)\n",
    "    validation_losses.append(validation_loss.item())\n",
    "    validation_accs.append(1-float(torch.count_nonzero(torch.argmax(validation_outputs, dim = 1)-validation_classes)/valid_batch_size))\n",
    "    \n",
    "    if save_model and validation_accs[-1] >= max(validation_accs):\n",
    "        print('saving model ...')\n",
    "        torch.save(model, \"my_checkpoint_glove.pth.tar\")\n",
    "    \n",
    "    print(\"epoch train loss:\\t\"+ str(round(train_losses[-1],3)) + \"\\tepoch validation loss:\\t\" + str(round(validation_losses[-1],3)))\n",
    "    print(\"epoch train acc:\\t\" + str(round(train_accs[-1],3)) + \"\\tepoch validation acc:\\t\" + str(round(validation_accs[-1],3)))\n",
    "    "
   ]
  },
  {
   "cell_type": "code",
   "execution_count": 9,
   "id": "latin-trunk",
   "metadata": {},
   "outputs": [
    {
     "data": {
      "text/plain": [
       "<matplotlib.legend.Legend at 0x7fc373621850>"
      ]
     },
     "execution_count": 9,
     "metadata": {},
     "output_type": "execute_result"
    },
    {
     "data": {
      "image/png": "[encoded data removed]",
      "text/plain": [
       "<Figure size 432x288 with 1 Axes>"
      ]
     },
     "metadata": {
      "needs_background": "light"
     },
     "output_type": "display_data"
    }
   ],
   "source": [
    "plt.plot(train_losses, label = \"train loss\")\n",
    "plt.plot(validation_losses, label = \"validation loss\")\n",
    "plt.title(\"negative loglikelihood loss, training time\")\n",
    "plt.legend()"
   ]
  },
  {
   "cell_type": "code",
   "execution_count": 10,
   "id": "found-filter",
   "metadata": {},
   "outputs": [
    {
     "data": {
      "text/plain": [
       "<matplotlib.legend.Legend at 0x7fc3a3b67ac0>"
      ]
     },
     "execution_count": 10,
     "metadata": {},
     "output_type": "execute_result"
    },
    {
     "data": {
      "image/png": "[encoded data removed]",
      "text/plain": [
       "<Figure size 432x288 with 1 Axes>"
      ]
     },
     "metadata": {
      "needs_background": "light"
     },
     "output_type": "display_data"
    }
   ],
   "source": [
    "plt.plot(train_accs, label = \"train acc\")\n",
    "plt.plot(validation_accs, label = \"validation acc\")\n",
    "plt.title(\"Accuracy - Epochs\")\n",
    "plt.legend()"
   ]
  },
  {
   "cell_type": "code",
   "execution_count": 57,
   "id": "composite-stress",
   "metadata": {},
   "outputs": [],
   "source": [
    "from sklearn.metrics import precision_recall_fscore_support\n",
    "from sklearn.metrics import confusion_matrix\n",
    "from sklearn.metrics import accuracy_score\n",
    "\n",
    "model = RelationNet_glove(embed_size, hidden_size, vocab_size, class_size, num_layers).to(device)\n",
    "criterion = nn.NLLLoss(ignore_index = dataUtils.rev_vocabulary[\"<PAD>\"])\n",
    "optimizer = optim.Adam(model.parameters(), lr=learning_rate)\n",
    "\n",
    "model = torch.load(\"my_checkpoint_glove.pth.tar\")\n",
    "\n",
    "dataloader_iterator = iter(validation_loader)\n",
    "validation_sentences, validation_classes = next(dataloader_iterator)\n",
    "validation_sentences, validation_classes = validation_sentences.to(device), validation_classes.to(device)\n",
    "validation_outputs = model(validation_sentences)"
   ]
  },
  {
   "cell_type": "code",
   "execution_count": 58,
   "id": "governmental-terrain",
   "metadata": {},
   "outputs": [
    {
     "data": {
      "text/plain": [
       "0.5833333333333334"
      ]
     },
     "execution_count": 58,
     "metadata": {},
     "output_type": "execute_result"
    }
   ],
   "source": [
    "accuracy_score(validation_classes, torch.argmax(validation_outputs, dim = 1))"
   ]
  },
  {
   "cell_type": "code",
   "execution_count": 59,
   "id": "found-reggae",
   "metadata": {},
   "outputs": [
    {
     "data": {
      "text/plain": [
       "array([[0, 0, 0, 0, 0, 0, 0, 0, 3, 2],\n",
       "       [0, 7, 1, 0, 1, 1, 0, 0, 1, 0],\n",
       "       [0, 0, 7, 0, 0, 0, 0, 0, 0, 0],\n",
       "       [0, 0, 0, 7, 0, 0, 0, 0, 1, 0],\n",
       "       [0, 0, 0, 0, 5, 0, 0, 0, 0, 0],\n",
       "       [0, 1, 0, 0, 0, 3, 1, 0, 2, 0],\n",
       "       [0, 0, 0, 0, 0, 0, 3, 0, 1, 0],\n",
       "       [0, 0, 0, 0, 0, 0, 0, 1, 0, 1],\n",
       "       [0, 1, 1, 2, 1, 0, 0, 4, 4, 2],\n",
       "       [0, 0, 0, 1, 0, 0, 1, 0, 1, 5]])"
      ]
     },
     "execution_count": 59,
     "metadata": {},
     "output_type": "execute_result"
    }
   ],
   "source": [
    "confusion_matrix(validation_classes, torch.argmax(validation_outputs, dim = 1))"
   ]
  },
  {
   "cell_type": "code",
   "execution_count": 61,
   "id": "nonprofit-album",
   "metadata": {},
   "outputs": [
    {
     "name": "stderr",
     "output_type": "stream",
     "text": [
      "/Users/ali/miniforge_x86_64/envs/pytorch_x86/lib/python3.8/site-packages/sklearn/metrics/_classification.py:1245: UndefinedMetricWarning: Precision and F-score are ill-defined and being set to 0.0 in labels with no predicted samples. Use `zero_division` parameter to control this behavior.\n",
      "  _warn_prf(average, modifier, msg_start, len(result))\n"
     ]
    }
   ],
   "source": [
    "a = precision_recall_fscore_support(validation_classes, np.array(torch.argmax(validation_outputs, dim = 1)))"
   ]
  },
  {
   "cell_type": "code",
   "execution_count": 62,
   "id": "cooked-pennsylvania",
   "metadata": {},
   "outputs": [
    {
     "data": {
      "text/plain": [
       "0.552521645021645"
      ]
     },
     "execution_count": 62,
     "metadata": {},
     "output_type": "execute_result"
    }
   ],
   "source": [
    "a[2].mean()"
   ]
  },
  {
   "cell_type": "code",
   "execution_count": null,
   "id": "obvious-luxury",
   "metadata": {},
   "outputs": [],
   "source": []
  }
 ],
 "metadata": {
  "kernelspec": {
   "display_name": "pytorch_x86",
   "language": "python",
   "name": "pytorch_x86"
  },
  "language_info": {
   "codemirror_mode": {
    "name": "ipython",
    "version": 3
   },
   "file_extension": ".py",
   "mimetype": "text/x-python",
   "name": "python",
   "nbconvert_exporter": "python",
   "pygments_lexer": "ipython3",
   "version": "3.8.8"
  }
 },
 "nbformat": 4,
 "nbformat_minor": 5
}
